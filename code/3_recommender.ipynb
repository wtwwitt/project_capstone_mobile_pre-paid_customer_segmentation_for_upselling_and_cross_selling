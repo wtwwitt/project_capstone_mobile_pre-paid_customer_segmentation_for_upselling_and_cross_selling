{
 "cells": [
  {
   "cell_type": "code",
   "execution_count": 1,
   "metadata": {},
   "outputs": [],
   "source": [
    "import pandas as pd\n",
    "import numpy as np\n",
    "import dask.dataframe as dd\n",
    "import matplotlib.pyplot as plt\n",
    "import seaborn as sns\n",
    "from sklearn.metrics.pairwise import cosine_similarity\n",
    "sns.set_theme()"
   ]
  },
  {
   "cell_type": "markdown",
   "metadata": {},
   "source": [
    "### Load Data"
   ]
  },
  {
   "cell_type": "code",
   "execution_count": 26,
   "metadata": {},
   "outputs": [],
   "source": [
    "# Load cluster df\n",
    "df = pd.read_parquet('../data/clustered_MSISDN.parquet')\n",
    "df.set_index('MSISDN', inplace=True)"
   ]
  },
  {
   "cell_type": "code",
   "execution_count": 2,
   "metadata": {},
   "outputs": [],
   "source": [
    "df.head()"
   ]
  },
  {
   "cell_type": "code",
   "execution_count": 28,
   "metadata": {},
   "outputs": [],
   "source": [
    "# Select cluster 0\n",
    "df_1 = df[df['label'] == 0]\n",
    "df_2 = df[df['label'] == 4]\n",
    "del df"
   ]
  },
  {
   "cell_type": "markdown",
   "metadata": {},
   "source": [
    "### Recommend packages based on similar customers\n",
    "\n",
    "Cross-selling from cluster 0 (recurring customers) -> cluster 4 (One time, short package, repeat purchaser, a lot of transactions)"
   ]
  },
  {
   "cell_type": "markdown",
   "metadata": {},
   "source": [
    "Select a customer from specific cluster for doing recommendation"
   ]
  },
  {
   "cell_type": "code",
   "execution_count": 38,
   "metadata": {},
   "outputs": [
    {
     "name": "stdout",
     "output_type": "stream",
     "text": [
      "9928335864\n"
     ]
    }
   ],
   "source": [
    "MSISDN = np.random.choice(df_2.index)\n",
    "print(MSISDN)"
   ]
  },
  {
   "cell_type": "markdown",
   "metadata": {},
   "source": [
    "Find similar number from cluster 0 "
   ]
  },
  {
   "cell_type": "code",
   "execution_count": 39,
   "metadata": {},
   "outputs": [],
   "source": [
    "# Find similarity of selected number\n",
    "x = df_2.loc[MSISDN].values.reshape(1, -1)\n",
    "y = df_1.values\n",
    "MSISDN_sim = cosine_similarity(x, y)"
   ]
  },
  {
   "cell_type": "code",
   "execution_count": 40,
   "metadata": {},
   "outputs": [],
   "source": [
    "# Get top n similar numbers\n",
    "n = 20\n",
    "\n",
    "MSISDN_sim = pd.DataFrame(MSISDN_sim, columns=df_1.index).T.rename(columns={0: 'similarity'})\n",
    "MSISDN_sim = MSISDN_sim.sort_values('similarity', ascending=False).head(n)"
   ]
  },
  {
   "cell_type": "markdown",
   "metadata": {},
   "source": [
    "Calculate package score from top 10 similar number"
   ]
  },
  {
   "cell_type": "code",
   "execution_count": 41,
   "metadata": {},
   "outputs": [],
   "source": [
    "# Load unique pack per MSISDN, for calculating package weight (score)\n",
    "unique_pack_per_MSISDN = pd.read_parquet('../data/trx_unique_pack_per_MSISDN.parquet')\n",
    "unique_pack_per_MSISDN = unique_pack_per_MSISDN.merge(MSISDN_sim, on='MSISDN')"
   ]
  },
  {
   "cell_type": "code",
   "execution_count": 42,
   "metadata": {},
   "outputs": [],
   "source": [
    "# Calculate package score\n",
    "\n",
    "# Calculate package weight from buying trx count\n",
    "unique_pack_per_MSISDN['COUNT'] = 0\n",
    "unique_pack_per_MSISDN = unique_pack_per_MSISDN.groupby('MSISDN', as_index=False).agg({\n",
    "    'PACKAGE_CODE': 'first',\n",
    "    'similarity': 'first',\n",
    "    'COUNT': 'count'\n",
    "})\n",
    "\n",
    "# pivotting\n",
    "unique_pack_per_MSISDN_pivot = pd.pivot_table(unique_pack_per_MSISDN, index='MSISDN', columns='PACKAGE_CODE', values='COUNT')\n",
    "unique_pack_per_MSISDN_pivot = unique_pack_per_MSISDN_pivot.merge(unique_pack_per_MSISDN[['MSISDN', 'similarity']], left_index=True, right_on='MSISDN')\n",
    "unique_pack_per_MSISDN_pivot.set_index('MSISDN', inplace=True)\n",
    "\n",
    "# multiply count with similarity\n",
    "sim_col = unique_pack_per_MSISDN_pivot['similarity']\n",
    "unique_pack_per_MSISDN_pivot.fillna(0, inplace=True)\n",
    "unique_pack_per_MSISDN_pivot = unique_pack_per_MSISDN_pivot.drop(columns='similarity').multiply(sim_col, axis=0)\n",
    "\n",
    "# Package score\n",
    "package_score = unique_pack_per_MSISDN_pivot.sum()/sim_col.sum()"
   ]
  },
  {
   "cell_type": "markdown",
   "metadata": {},
   "source": [
    "Get recommended packages"
   ]
  },
  {
   "cell_type": "code",
   "execution_count": 3,
   "metadata": {},
   "outputs": [],
   "source": [
    "# List of recommended package for selected number\n",
    "package_score.sort_values(ascending=False)"
   ]
  }
 ],
 "metadata": {
  "kernelspec": {
   "display_name": "Python 3",
   "language": "python",
   "name": "python3"
  },
  "language_info": {
   "codemirror_mode": {
    "name": "ipython",
    "version": 3
   },
   "file_extension": ".py",
   "mimetype": "text/x-python",
   "name": "python",
   "nbconvert_exporter": "python",
   "pygments_lexer": "ipython3",
   "version": "3.10.12"
  }
 },
 "nbformat": 4,
 "nbformat_minor": 2
}
